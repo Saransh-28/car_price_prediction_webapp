{
 "cells": [
  {
   "cell_type": "code",
   "execution_count": 1,
   "id": "a083f216",
   "metadata": {},
   "outputs": [],
   "source": [
    "import pandas as pd\n",
    "import numpy as np\n",
    "import matplotlib.pyplot as plt\n",
    "import seaborn as sns\n",
    "import pickle"
   ]
  },
  {
   "cell_type": "code",
   "execution_count": 2,
   "id": "5acb3bd4",
   "metadata": {},
   "outputs": [],
   "source": [
    "df3 = pd.read_csv('./car data/Car details v3.csv')"
   ]
  },
  {
   "cell_type": "code",
   "execution_count": 3,
   "id": "0393f1b6",
   "metadata": {},
   "outputs": [],
   "source": [
    "df3.dropna(axis=0,inplace=True)\n",
    "\n",
    "df3['engine'] = (df3['engine'].astype(str).apply(lambda x:x.split(' ')[0])).astype(np.int32)\n",
    "df3['mileage'] = (df3['mileage'].astype(str).apply(lambda x:x.split(' ')[0])).astype(np.float32)\n",
    "df3['max_power'] = (df3['max_power'].astype(str).apply(lambda x:x.split(' ')[0])).astype(np.float32)\n",
    "df3['transmission'] = (df3['transmission'].map({'Manual':1, 'Automatic':2})).astype(np.int32)\n",
    "df3['fuel'] = (df3['fuel'].map({'Diesel':4, 'Petrol':3, 'LPG':2, 'CNG':1})).astype(np.int32)\n",
    "df3['owner'] = (df3['owner'].map({'First Owner':1, 'Second Owner':2, 'Third Owner':3,'Fourth & Above Owner':4, 'Test Drive Car':0})).astype(np.int32)\n",
    "df3['year_used'] = 2022 - df3['year']\n",
    "df3['seller_type'] = df3['seller_type'].map({'Individual':1, 'Dealer':2, 'Trustmark Dealer':3})\n",
    "df3['selling_price'] = df3['selling_price']/100000\n",
    "df3['km_driven'] = df3['km_driven']/1000\n",
    "df3['seats'] = df3['seats'].astype(np.int32)\n",
    "\n",
    "df3.drop(['torque','name','year'],axis=1,inplace=True)"
   ]
  },
  {
   "cell_type": "code",
   "execution_count": 4,
   "id": "8941f63d",
   "metadata": {},
   "outputs": [
    {
     "data": {
      "text/html": [
       "<div>\n",
       "<style scoped>\n",
       "    .dataframe tbody tr th:only-of-type {\n",
       "        vertical-align: middle;\n",
       "    }\n",
       "\n",
       "    .dataframe tbody tr th {\n",
       "        vertical-align: top;\n",
       "    }\n",
       "\n",
       "    .dataframe thead th {\n",
       "        text-align: right;\n",
       "    }\n",
       "</style>\n",
       "<table border=\"1\" class=\"dataframe\">\n",
       "  <thead>\n",
       "    <tr style=\"text-align: right;\">\n",
       "      <th></th>\n",
       "      <th>selling_price</th>\n",
       "      <th>km_driven</th>\n",
       "      <th>fuel</th>\n",
       "      <th>seller_type</th>\n",
       "      <th>transmission</th>\n",
       "      <th>owner</th>\n",
       "      <th>mileage</th>\n",
       "      <th>engine</th>\n",
       "      <th>max_power</th>\n",
       "      <th>seats</th>\n",
       "      <th>year_used</th>\n",
       "    </tr>\n",
       "  </thead>\n",
       "  <tbody>\n",
       "    <tr>\n",
       "      <th>0</th>\n",
       "      <td>4.50</td>\n",
       "      <td>145.5</td>\n",
       "      <td>4</td>\n",
       "      <td>1</td>\n",
       "      <td>1</td>\n",
       "      <td>1</td>\n",
       "      <td>23.400000</td>\n",
       "      <td>1248</td>\n",
       "      <td>74.000000</td>\n",
       "      <td>5</td>\n",
       "      <td>8</td>\n",
       "    </tr>\n",
       "    <tr>\n",
       "      <th>1</th>\n",
       "      <td>3.70</td>\n",
       "      <td>120.0</td>\n",
       "      <td>4</td>\n",
       "      <td>1</td>\n",
       "      <td>1</td>\n",
       "      <td>2</td>\n",
       "      <td>21.139999</td>\n",
       "      <td>1498</td>\n",
       "      <td>103.519997</td>\n",
       "      <td>5</td>\n",
       "      <td>8</td>\n",
       "    </tr>\n",
       "    <tr>\n",
       "      <th>2</th>\n",
       "      <td>1.58</td>\n",
       "      <td>140.0</td>\n",
       "      <td>3</td>\n",
       "      <td>1</td>\n",
       "      <td>1</td>\n",
       "      <td>3</td>\n",
       "      <td>17.700001</td>\n",
       "      <td>1497</td>\n",
       "      <td>78.000000</td>\n",
       "      <td>5</td>\n",
       "      <td>16</td>\n",
       "    </tr>\n",
       "    <tr>\n",
       "      <th>3</th>\n",
       "      <td>2.25</td>\n",
       "      <td>127.0</td>\n",
       "      <td>4</td>\n",
       "      <td>1</td>\n",
       "      <td>1</td>\n",
       "      <td>1</td>\n",
       "      <td>23.000000</td>\n",
       "      <td>1396</td>\n",
       "      <td>90.000000</td>\n",
       "      <td>5</td>\n",
       "      <td>12</td>\n",
       "    </tr>\n",
       "    <tr>\n",
       "      <th>4</th>\n",
       "      <td>1.30</td>\n",
       "      <td>120.0</td>\n",
       "      <td>3</td>\n",
       "      <td>1</td>\n",
       "      <td>1</td>\n",
       "      <td>1</td>\n",
       "      <td>16.100000</td>\n",
       "      <td>1298</td>\n",
       "      <td>88.199997</td>\n",
       "      <td>5</td>\n",
       "      <td>15</td>\n",
       "    </tr>\n",
       "  </tbody>\n",
       "</table>\n",
       "</div>"
      ],
      "text/plain": [
       "   selling_price  km_driven  fuel  seller_type  transmission  owner  \\\n",
       "0           4.50      145.5     4            1             1      1   \n",
       "1           3.70      120.0     4            1             1      2   \n",
       "2           1.58      140.0     3            1             1      3   \n",
       "3           2.25      127.0     4            1             1      1   \n",
       "4           1.30      120.0     3            1             1      1   \n",
       "\n",
       "     mileage  engine   max_power  seats  year_used  \n",
       "0  23.400000    1248   74.000000      5          8  \n",
       "1  21.139999    1498  103.519997      5          8  \n",
       "2  17.700001    1497   78.000000      5         16  \n",
       "3  23.000000    1396   90.000000      5         12  \n",
       "4  16.100000    1298   88.199997      5         15  "
      ]
     },
     "execution_count": 4,
     "metadata": {},
     "output_type": "execute_result"
    }
   ],
   "source": [
    "df3.head()"
   ]
  },
  {
   "cell_type": "code",
   "execution_count": 5,
   "id": "e7311241",
   "metadata": {
    "scrolled": true
   },
   "outputs": [],
   "source": [
    "X = df3[['km_driven', 'fuel', 'transmission', 'owner','seller_type','mileage', 'engine', 'max_power', 'seats', 'year_used']]\n",
    "y=df3['selling_price']"
   ]
  },
  {
   "cell_type": "code",
   "execution_count": 7,
   "id": "891a6313",
   "metadata": {},
   "outputs": [
    {
     "name": "stdout",
     "output_type": "stream",
     "text": [
      "column-selling_price ,importance = 0.046636525732834895 \n",
      "column-km_driven ,importance = 0.05025669046108318 \n",
      "column-fuel ,importance = 0.2941616647872465 \n",
      "column-seller_type ,importance = 0.012071743021709883 \n",
      "column-transmission ,importance = 0.025112464097672482 \n",
      "column-owner ,importance = 0.025181596403760834 \n",
      "column-mileage ,importance = 0.07943083139734033 \n",
      "column-engine ,importance = 0.3027145091442726 \n",
      "column-max_power ,importance = 0.012125430189047352 \n",
      "column-seats ,importance = 0.15230854476503186 \n"
     ]
    }
   ],
   "source": [
    "from sklearn.ensemble import ExtraTreesRegressor\n",
    "model = ExtraTreesRegressor()\n",
    "model.fit(X,y)\n",
    "for i in range(len(model.feature_importances_)):\n",
    "    print(f'column-{df3.columns[i]} ,importance = {model.feature_importances_[i]} ')"
   ]
  },
  {
   "cell_type": "code",
   "execution_count": 8,
   "id": "dcee6407",
   "metadata": {},
   "outputs": [],
   "source": [
    "from sklearn.model_selection import train_test_split\n",
    "X_train , X_test , y_train , y_test = train_test_split(X,y,test_size=0.2)\n",
    "n_estimators = [int(x) for x in np.linspace(start=100,stop=2000,num=20)]\n",
    "max_features = ['auto' , 'sqrt']\n",
    "max_depth = [int(x) for x in np.linspace(5,50,num=10)]\n",
    "min_samples_split = [2,5,10,15,50,75,100]\n",
    "min_samples_leaf = [1,2,5,10,15,20]"
   ]
  },
  {
   "cell_type": "code",
   "execution_count": 9,
   "id": "8bcaaed3",
   "metadata": {},
   "outputs": [],
   "source": [
    "from sklearn.ensemble import RandomForestRegressor\n",
    "from sklearn.model_selection import RandomizedSearchCV\n",
    "random_grid = {'n_estimators':n_estimators,\n",
    "              'max_features':max_features,\n",
    "              'max_depth':max_depth,\n",
    "              'min_samples_split':min_samples_split,\n",
    "              'min_samples_leaf':min_samples_leaf}\n",
    "rf = RandomForestRegressor()\n",
    "rf_random = RandomizedSearchCV(estimator=rf,param_distributions=random_grid,scoring='neg_mean_squared_error',n_iter=10,cv=5,verbose=2,random_state=42 , n_jobs=1)\n"
   ]
  },
  {
   "cell_type": "code",
   "execution_count": 10,
   "id": "adea18d9",
   "metadata": {},
   "outputs": [
    {
     "name": "stdout",
     "output_type": "stream",
     "text": [
      "Fitting 5 folds for each of 10 candidates, totalling 50 fits\n",
      "[CV] END max_depth=50, max_features=auto, min_samples_leaf=15, min_samples_split=75, n_estimators=1600; total time=  10.3s\n",
      "[CV] END max_depth=50, max_features=auto, min_samples_leaf=15, min_samples_split=75, n_estimators=1600; total time=  10.0s\n",
      "[CV] END max_depth=50, max_features=auto, min_samples_leaf=15, min_samples_split=75, n_estimators=1600; total time=  10.0s\n",
      "[CV] END max_depth=50, max_features=auto, min_samples_leaf=15, min_samples_split=75, n_estimators=1600; total time=   9.9s\n",
      "[CV] END max_depth=50, max_features=auto, min_samples_leaf=15, min_samples_split=75, n_estimators=1600; total time=  10.2s\n",
      "[CV] END max_depth=5, max_features=sqrt, min_samples_leaf=1, min_samples_split=5, n_estimators=100; total time=   0.1s\n",
      "[CV] END max_depth=5, max_features=sqrt, min_samples_leaf=1, min_samples_split=5, n_estimators=100; total time=   0.1s\n",
      "[CV] END max_depth=5, max_features=sqrt, min_samples_leaf=1, min_samples_split=5, n_estimators=100; total time=   0.1s\n",
      "[CV] END max_depth=5, max_features=sqrt, min_samples_leaf=1, min_samples_split=5, n_estimators=100; total time=   0.1s\n",
      "[CV] END max_depth=5, max_features=sqrt, min_samples_leaf=1, min_samples_split=5, n_estimators=100; total time=   0.1s\n",
      "[CV] END max_depth=20, max_features=auto, min_samples_leaf=5, min_samples_split=15, n_estimators=1100; total time=   8.8s\n",
      "[CV] END max_depth=20, max_features=auto, min_samples_leaf=5, min_samples_split=15, n_estimators=1100; total time=   8.9s\n",
      "[CV] END max_depth=20, max_features=auto, min_samples_leaf=5, min_samples_split=15, n_estimators=1100; total time=   8.8s\n",
      "[CV] END max_depth=20, max_features=auto, min_samples_leaf=5, min_samples_split=15, n_estimators=1100; total time=   8.7s\n",
      "[CV] END max_depth=20, max_features=auto, min_samples_leaf=5, min_samples_split=15, n_estimators=1100; total time=   8.7s\n",
      "[CV] END max_depth=40, max_features=auto, min_samples_leaf=2, min_samples_split=15, n_estimators=500; total time=   4.1s\n",
      "[CV] END max_depth=40, max_features=auto, min_samples_leaf=2, min_samples_split=15, n_estimators=500; total time=   4.1s\n",
      "[CV] END max_depth=40, max_features=auto, min_samples_leaf=2, min_samples_split=15, n_estimators=500; total time=   4.3s\n",
      "[CV] END max_depth=40, max_features=auto, min_samples_leaf=2, min_samples_split=15, n_estimators=500; total time=   4.8s\n",
      "[CV] END max_depth=40, max_features=auto, min_samples_leaf=2, min_samples_split=15, n_estimators=500; total time=   4.5s\n",
      "[CV] END max_depth=35, max_features=sqrt, min_samples_leaf=5, min_samples_split=50, n_estimators=500; total time=   1.4s\n",
      "[CV] END max_depth=35, max_features=sqrt, min_samples_leaf=5, min_samples_split=50, n_estimators=500; total time=   1.3s\n",
      "[CV] END max_depth=35, max_features=sqrt, min_samples_leaf=5, min_samples_split=50, n_estimators=500; total time=   1.4s\n",
      "[CV] END max_depth=35, max_features=sqrt, min_samples_leaf=5, min_samples_split=50, n_estimators=500; total time=   1.4s\n",
      "[CV] END max_depth=35, max_features=sqrt, min_samples_leaf=5, min_samples_split=50, n_estimators=500; total time=   1.4s\n",
      "[CV] END max_depth=20, max_features=sqrt, min_samples_leaf=5, min_samples_split=75, n_estimators=600; total time=   1.6s\n",
      "[CV] END max_depth=20, max_features=sqrt, min_samples_leaf=5, min_samples_split=75, n_estimators=600; total time=   1.5s\n",
      "[CV] END max_depth=20, max_features=sqrt, min_samples_leaf=5, min_samples_split=75, n_estimators=600; total time=   1.6s\n",
      "[CV] END max_depth=20, max_features=sqrt, min_samples_leaf=5, min_samples_split=75, n_estimators=600; total time=   1.6s\n",
      "[CV] END max_depth=20, max_features=sqrt, min_samples_leaf=5, min_samples_split=75, n_estimators=600; total time=   1.5s\n",
      "[CV] END max_depth=15, max_features=sqrt, min_samples_leaf=2, min_samples_split=50, n_estimators=700; total time=   2.0s\n",
      "[CV] END max_depth=15, max_features=sqrt, min_samples_leaf=2, min_samples_split=50, n_estimators=700; total time=   2.2s\n",
      "[CV] END max_depth=15, max_features=sqrt, min_samples_leaf=2, min_samples_split=50, n_estimators=700; total time=   2.3s\n",
      "[CV] END max_depth=15, max_features=sqrt, min_samples_leaf=2, min_samples_split=50, n_estimators=700; total time=   2.1s\n",
      "[CV] END max_depth=15, max_features=sqrt, min_samples_leaf=2, min_samples_split=50, n_estimators=700; total time=   2.1s\n",
      "[CV] END max_depth=45, max_features=sqrt, min_samples_leaf=2, min_samples_split=2, n_estimators=400; total time=   1.7s\n",
      "[CV] END max_depth=45, max_features=sqrt, min_samples_leaf=2, min_samples_split=2, n_estimators=400; total time=   1.7s\n",
      "[CV] END max_depth=45, max_features=sqrt, min_samples_leaf=2, min_samples_split=2, n_estimators=400; total time=   1.7s\n",
      "[CV] END max_depth=45, max_features=sqrt, min_samples_leaf=2, min_samples_split=2, n_estimators=400; total time=   1.7s\n",
      "[CV] END max_depth=45, max_features=sqrt, min_samples_leaf=2, min_samples_split=2, n_estimators=400; total time=   1.7s\n",
      "[CV] END max_depth=35, max_features=sqrt, min_samples_leaf=10, min_samples_split=5, n_estimators=400; total time=   1.2s\n",
      "[CV] END max_depth=35, max_features=sqrt, min_samples_leaf=10, min_samples_split=5, n_estimators=400; total time=   1.2s\n",
      "[CV] END max_depth=35, max_features=sqrt, min_samples_leaf=10, min_samples_split=5, n_estimators=400; total time=   1.4s\n",
      "[CV] END max_depth=35, max_features=sqrt, min_samples_leaf=10, min_samples_split=5, n_estimators=400; total time=   1.5s\n",
      "[CV] END max_depth=35, max_features=sqrt, min_samples_leaf=10, min_samples_split=5, n_estimators=400; total time=   2.2s\n",
      "[CV] END max_depth=50, max_features=sqrt, min_samples_leaf=1, min_samples_split=15, n_estimators=400; total time=   2.3s\n",
      "[CV] END max_depth=50, max_features=sqrt, min_samples_leaf=1, min_samples_split=15, n_estimators=400; total time=   1.9s\n",
      "[CV] END max_depth=50, max_features=sqrt, min_samples_leaf=1, min_samples_split=15, n_estimators=400; total time=   1.8s\n",
      "[CV] END max_depth=50, max_features=sqrt, min_samples_leaf=1, min_samples_split=15, n_estimators=400; total time=   1.9s\n",
      "[CV] END max_depth=50, max_features=sqrt, min_samples_leaf=1, min_samples_split=15, n_estimators=400; total time=   2.1s\n"
     ]
    },
    {
     "data": {
      "text/plain": [
       "RandomizedSearchCV(cv=5, estimator=RandomForestRegressor(), n_jobs=1,\n",
       "                   param_distributions={'max_depth': [5, 10, 15, 20, 25, 30, 35,\n",
       "                                                      40, 45, 50],\n",
       "                                        'max_features': ['auto', 'sqrt'],\n",
       "                                        'min_samples_leaf': [1, 2, 5, 10, 15,\n",
       "                                                             20],\n",
       "                                        'min_samples_split': [2, 5, 10, 15, 50,\n",
       "                                                              75, 100],\n",
       "                                        'n_estimators': [100, 200, 300, 400,\n",
       "                                                         500, 600, 700, 800,\n",
       "                                                         900, 1000, 1100, 1200,\n",
       "                                                         1300, 1400, 1500, 1600,\n",
       "                                                         1700, 1800, 1900,\n",
       "                                                         2000]},\n",
       "                   random_state=42, scoring='neg_mean_squared_error',\n",
       "                   verbose=2)"
      ]
     },
     "execution_count": 10,
     "metadata": {},
     "output_type": "execute_result"
    }
   ],
   "source": [
    "rf_random.fit(X_train,y_train)"
   ]
  },
  {
   "cell_type": "code",
   "execution_count": 13,
   "id": "78a938ef",
   "metadata": {},
   "outputs": [
    {
     "name": "stderr",
     "output_type": "stream",
     "text": [
      "C:\\Users\\saran\\anaconda3\\envs\\car_prediction\\lib\\site-packages\\seaborn\\distributions.py:2619: FutureWarning: `distplot` is a deprecated function and will be removed in a future version. Please adapt your code to use either `displot` (a figure-level function with similar flexibility) or `histplot` (an axes-level function for histograms).\n",
      "  warnings.warn(msg, FutureWarning)\n"
     ]
    },
    {
     "data": {
      "text/plain": [
       "<AxesSubplot:xlabel='selling_price', ylabel='Density'>"
      ]
     },
     "execution_count": 13,
     "metadata": {},
     "output_type": "execute_result"
    },
    {
     "data": {
      "image/png": "[encoded data removed]",
      "text/plain": [
       "<Figure size 432x288 with 1 Axes>"
      ]
     },
     "metadata": {
      "needs_background": "light"
     },
     "output_type": "display_data"
    }
   ],
   "source": [
    "prediction = rf_random.predict(X_test)\n",
    "sns.distplot(y_test-prediction)"
   ]
  },
  {
   "cell_type": "code",
   "execution_count": 14,
   "id": "265bcd0e",
   "metadata": {},
   "outputs": [
    {
     "data": {
      "text/plain": [
       "<matplotlib.collections.PathCollection at 0x173ffe5db48>"
      ]
     },
     "execution_count": 14,
     "metadata": {},
     "output_type": "execute_result"
    },
    {
     "data": {
      "image/png": "[encoded data removed]",
      "text/plain": [
       "<Figure size 432x288 with 1 Axes>"
      ]
     },
     "metadata": {
      "needs_background": "light"
     },
     "output_type": "display_data"
    }
   ],
   "source": [
    "plt.scatter(y_test,prediction)"
   ]
  },
  {
   "cell_type": "code",
   "execution_count": 15,
   "id": "d128681a",
   "metadata": {},
   "outputs": [],
   "source": [
    "file = open('rf_reg_model.pkl' , 'wb')\n",
    "pickle.dump(rf_random,file)"
   ]
  },
  {
   "cell_type": "code",
   "execution_count": null,
   "id": "d9822a7c",
   "metadata": {},
   "outputs": [],
   "source": []
  }
 ],
 "metadata": {
  "kernelspec": {
   "display_name": "Python 3 (ipykernel)",
   "language": "python",
   "name": "python3"
  },
  "language_info": {
   "codemirror_mode": {
    "name": "ipython",
    "version": 3
   },
   "file_extension": ".py",
   "mimetype": "text/x-python",
   "name": "python",
   "nbconvert_exporter": "python",
   "pygments_lexer": "ipython3",
   "version": "3.7.13"
  },
  "vscode": {
   "interpreter": {
    "hash": "acc40203db69822aee81a1f5c97f01141a9ea0bbdce4781554130f3bf494f49d"
   }
  }
 },
 "nbformat": 4,
 "nbformat_minor": 5
}
